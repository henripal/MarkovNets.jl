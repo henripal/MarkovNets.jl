{
 "cells": [
  {
   "cell_type": "code",
   "execution_count": 1,
   "metadata": {
    "collapsed": false
   },
   "outputs": [
    {
     "name": "stderr",
     "output_type": "stream",
     "text": [
      "\u001b[1m\u001b[34mINFO: Recompiling stale cache file /home/henripal/.julia/lib/v0.5/BayesNets.ji for module BayesNets.\n",
      "\u001b[0m"
     ]
    }
   ],
   "source": [
    "using BayesNets"
   ]
  },
  {
   "cell_type": "markdown",
   "metadata": {},
   "source": [
    "# Usage for Markov Fields\n",
    "\n",
    "## Basic Usage\n",
    "\n",
    "A Markov Field is represented as an MRF type containting an undirected graph modeling the conditional independence of the joint probability distribution. Each node is associated to a name, and an MRF contains a list of `Factor`s, who represent the probability distribution. The joint probability distribution is the product of all the `Factor`s. \n",
    "\n",
    "So far this only supports discrete distributions. Priority to extend this to Gaussian models."
   ]
  },
  {
   "cell_type": "markdown",
   "metadata": {},
   "source": [
    "To build an MRF, the recommended way is simply to construct factors, then to call the MRF constructor with a list of factors. The constructor will then build the representation of the MRF (i.e. an edge will be added between all nodes that are featured in common factors)."
   ]
  },
  {
   "cell_type": "code",
   "execution_count": 2,
   "metadata": {
    "collapsed": false
   },
   "outputs": [
    {
     "data": {
      "image/svg+xml": [
       "<?xml version=\"1.0\" encoding=\"UTF-8\"?>\n",
       "<svg xmlns=\"http://www.w3.org/2000/svg\" xmlns:xlink=\"http://www.w3.org/1999/xlink\" width=\"12.18pt\" height=\"67.907pt\" viewBox=\"0 0 12.18 67.907\" version=\"1.1\">\n",
       "<defs>\n",
       "<g>\n",
       "<symbol overflow=\"visible\" id=\"glyph-1485294946177157-0-0\">\n",
       "<path style=\"stroke:none;\" d=\"\"/>\n",
       "</symbol>\n",
       "<symbol overflow=\"visible\" id=\"glyph-1485294946177157-0-1\">\n",
       "<path style=\"stroke:none;\" d=\"M 5.015625 -1.015625 L 5.015625 -1.71875 L 4.359375 -1.71875 L 4.359375 -1.015625 C 4.359375 -0.4375 4.3125 -0.515625 4.203125 -0.515625 C 3.875 -0.515625 4.03125 -0.828125 4.03125 -0.875 L 4.03125 -2.875 C 4.03125 -3.296875 3.984375 -3.78125 3.625 -4.140625 C 3.234375 -4.53125 2.59375 -4.734375 2.109375 -4.734375 C 1.296875 -4.734375 0.40625 -4.125 0.40625 -3.46875 C 0.40625 -3.171875 0.8125 -2.875 1.0625 -2.875 C 1.34375 -2.875 1.71875 -3.203125 1.71875 -3.453125 C 1.71875 -3.578125 1.46875 -4.046875 1.328125 -4.046875 C 1.421875 -4.171875 1.78125 -4.25 2.09375 -4.25 C 2.578125 -4.25 2.953125 -3.984375 2.953125 -3.09375 L 2.953125 -2.859375 C 2.640625 -2.84375 1.9375 -2.8125 1.3125 -2.515625 C 0.5625 -2.171875 0.125 -1.515625 0.125 -1.078125 C 0.125 -0.265625 1.28125 0.109375 1.90625 0.109375 C 2.578125 0.109375 3.234375 -0.421875 3.421875 -0.890625 L 3.015625 -0.890625 C 3.0625 -0.484375 3.53125 0.0625 4 0.0625 C 4.203125 0.0625 5.015625 -0.203125 5.015625 -1.015625 Z M 2.953125 -1.53125 C 2.953125 -0.578125 2.4375 -0.375 1.984375 -0.375 C 1.5 -0.375 1.28125 -0.59375 1.28125 -1.09375 C 1.28125 -1.640625 1.5 -2.328125 2.953125 -2.375 Z M 2.953125 -1.53125 \"/>\n",
       "</symbol>\n",
       "<symbol overflow=\"visible\" id=\"glyph-1485294946177157-0-2\">\n",
       "<path style=\"stroke:none;\" d=\"M 5.390625 -2.28125 C 5.390625 -3.546875 4.21875 -4.671875 3.078125 -4.671875 C 2.296875 -4.671875 1.734375 -4.171875 1.578125 -3.984375 L 1.90625 -3.890625 L 1.90625 -7.203125 L 0.078125 -7.0625 L 0.078125 -6.5 C 0.984375 -6.5 0.859375 -6.5625 0.859375 -6.078125 L 0.859375 0 L 1.421875 0 L 1.671875 -0.421875 C 1.671875 -0.421875 2.234375 0.109375 2.96875 0.109375 C 4.15625 0.109375 5.390625 -1 5.390625 -2.28125 Z M 4.171875 -2.296875 C 4.171875 -1.921875 4.203125 -1.421875 3.921875 -0.984375 C 3.703125 -0.671875 3.46875 -0.375 2.9375 -0.375 C 2.484375 -0.375 2.265625 -0.578125 2.03125 -0.953125 C 1.890625 -1.15625 1.9375 -1.09375 1.9375 -1.265625 L 1.9375 -3.3125 C 1.9375 -3.515625 1.890625 -3.421875 2 -3.59375 C 2.375 -4.140625 2.796875 -4.1875 3.03125 -4.1875 C 3.484375 -4.1875 3.703125 -3.96875 3.9375 -3.59375 C 4.203125 -3.1875 4.171875 -2.703125 4.171875 -2.296875 Z M 4.171875 -2.296875 \"/>\n",
       "</symbol>\n",
       "<symbol overflow=\"visible\" id=\"glyph-1485294946177157-0-3\">\n",
       "<path style=\"stroke:none;\" d=\"M 4.34375 -1.3125 C 4.34375 -1.421875 4.03125 -1.5625 4 -1.5625 C 3.921875 -1.5625 3.703125 -1.375 3.671875 -1.3125 C 3.390625 -0.390625 2.9375 -0.40625 2.578125 -0.40625 C 2.046875 -0.40625 1.359375 -0.703125 1.359375 -2.296875 C 1.359375 -3.921875 1.984375 -4.21875 2.515625 -4.21875 C 2.609375 -4.21875 3.09375 -4.25 3.234375 -4.09375 C 3.171875 -4.09375 2.90625 -3.65625 2.90625 -3.515625 C 2.90625 -3.265625 3.296875 -2.9375 3.5625 -2.9375 C 3.828125 -2.9375 4.234375 -3.234375 4.234375 -3.53125 C 4.234375 -4.203125 3.265625 -4.734375 2.5 -4.734375 C 1.25 -4.734375 0.140625 -3.515625 0.140625 -2.28125 C 0.140625 -1 1.328125 0.109375 2.484375 0.109375 C 3.8125 0.109375 4.34375 -1.21875 4.34375 -1.3125 Z M 4.34375 -1.3125 \"/>\n",
       "</symbol>\n",
       "</g>\n",
       "</defs>\n",
       "<g id=\"surface1\">\n",
       "<path style=\"fill:none;stroke-width:0.3985;stroke-linecap:butt;stroke-linejoin:miter;stroke:rgb(0%,0%,0%);stroke-opacity:1;stroke-miterlimit:10;\" d=\"M -0.00015625 -5.807062 L -0.00015625 -20.857844 \" transform=\"matrix(1,0,0,-1,6.09,5.607)\"/>\n",
       "<path style=\"fill:none;stroke-width:0.31879;stroke-linecap:round;stroke-linejoin:round;stroke:rgb(0%,0%,0%);stroke-opacity:1;stroke-miterlimit:10;\" d=\"M -1.194299 1.593594 C -1.096643 0.995938 0.00101375 0.101406 0.297889 -0.00015625 C 0.00101375 -0.0978125 -1.096643 -0.99625 -1.194299 -1.593906 \" transform=\"matrix(0,1,1,0,6.09,26.46383)\"/>\n",
       "<path style=\"fill:none;stroke-width:0.3985;stroke-linecap:butt;stroke-linejoin:miter;stroke:rgb(0%,0%,0%);stroke-opacity:1;stroke-miterlimit:10;\" d=\"M -0.00015625 -35.377375 L -0.00015625 -50.428156 \" transform=\"matrix(1,0,0,-1,6.09,5.607)\"/>\n",
       "<path style=\"fill:none;stroke-width:0.31879;stroke-linecap:round;stroke-linejoin:round;stroke:rgb(0%,0%,0%);stroke-opacity:1;stroke-miterlimit:10;\" d=\"M -1.196216 1.593594 C -1.094654 0.995938 -0.00090375 0.101406 0.299877 -0.00015625 C -0.00090375 -0.0978125 -1.094654 -0.99625 -1.196216 -1.593906 \" transform=\"matrix(0,1,1,0,6.09,56.03606)\"/>\n",
       "<g style=\"fill:rgb(0%,0%,0%);fill-opacity:1;\">\n",
       "  <use xlink:href=\"#glyph-1485294946177157-0-1\" x=\"3.599\" y=\"7.784\"/>\n",
       "</g>\n",
       "<g style=\"fill:rgb(0%,0%,0%);fill-opacity:1;\">\n",
       "  <use xlink:href=\"#glyph-1485294946177157-0-2\" x=\"3.321\" y=\"37.356\"/>\n",
       "</g>\n",
       "<g style=\"fill:rgb(0%,0%,0%);fill-opacity:1;\">\n",
       "  <use xlink:href=\"#glyph-1485294946177157-0-3\" x=\"3.878\" y=\"64.477\"/>\n",
       "</g>\n",
       "</g>\n",
       "</svg>\n",
       "\n"
      ],
      "text/plain": [
       "BayesNets.MRF{BayesNets.Factor}({3, 2} undirected graph,BayesNets.Factor[4 instantiations:\n",
       "  a (2)\n",
       "  b (2),4 instantiations:\n",
       "  b (2)\n",
       "  c (2)],Symbol[:a,:b,:c],Dict(:c=>3,:a=>1,:b=>2),Dict{Symbol,Array{Int64,N}}(Pair{Symbol,Array{Int64,N}}(:c,[2]),Pair{Symbol,Array{Int64,N}}(:a,[1]),Pair{Symbol,Array{Int64,N}}(:b,[1,2])))"
      ]
     },
     "execution_count": 2,
     "metadata": {},
     "output_type": "execute_result"
    }
   ],
   "source": [
    "f = Factor([:a, :b], [2, 2])\n",
    "g = Factor([:b, :c], [2, 2])\n",
    "factors = [f, g]\n",
    "mrf = MRF(factors)"
   ]
  },
  {
   "cell_type": "markdown",
   "metadata": {},
   "source": [
    "Note - this is indeed an UG graph. Looks like TikzGraphs doesn't support undirected graphs, but looks like an easy fix"
   ]
  },
  {
   "cell_type": "markdown",
   "metadata": {},
   "source": [
    "## Sampling\n",
    "Sampling in MRFs is done through *Gibbs Sampling*. We will use as a basic example an Ising model. \n",
    "\n",
    "For this we need to build a 'grid' graph. We then use the graph to create the list of associated factors. Each node is has two possible values, `1` or `2`. The factors are pairwise and reflect that two neighboring nodes have a tendency to align.\n",
    "\n",
    "### Ising Model"
   ]
  },
  {
   "cell_type": "code",
   "execution_count": 3,
   "metadata": {
    "collapsed": false
   },
   "outputs": [
    {
     "data": {
      "text/plain": [
       "Plots.GRBackend()"
      ]
     },
     "execution_count": 3,
     "metadata": {},
     "output_type": "execute_result"
    }
   ],
   "source": [
    "using LightGraphs # we need this to build our factor list.\n",
    "using Plots\n",
    "gr(size = (300,300), scale = 1)"
   ]
  },
  {
   "cell_type": "markdown",
   "metadata": {},
   "source": [
    "Building the Grid:"
   ]
  },
  {
   "cell_type": "code",
   "execution_count": 4,
   "metadata": {
    "collapsed": false
   },
   "outputs": [
    {
     "data": {
      "text/plain": [
       "{1024, 1984} undirected graph"
      ]
     },
     "execution_count": 4,
     "metadata": {},
     "output_type": "execute_result"
    }
   ],
   "source": [
    "n = 32\n",
    "grid = Grid([n,n])"
   ]
  },
  {
   "cell_type": "code",
   "execution_count": 5,
   "metadata": {
    "collapsed": false
   },
   "outputs": [],
   "source": [
    "interact = .7 # this is our interaction energy\n",
    "\n",
    "# we then define the factor matrix:\n",
    "interact_array = [exp(interact) exp(-interact);\n",
    "                  exp(-interact) exp(interact)]\n",
    "\n",
    "factors = Array{Factor}(length(edges(grid)))\n",
    "\n",
    "# and create pairwise factors for neighboring nodes on the grids\n",
    "for (i,e) in enumerate(edges(grid))\n",
    "    factors[i] = Factor([Symbol(e[1]), Symbol(e[2])], interact_array)\n",
    "end\n",
    "\n",
    "mrf = MRF(factors);\n"
   ]
  },
  {
   "cell_type": "code",
   "execution_count": 6,
   "metadata": {
    "collapsed": false
   },
   "outputs": [
    {
     "data": {
      "text/plain": [
       "BayesNets.MRFGibbsSampler(Dict{Symbol,Any}(),0,0,Nullable{Dict{Symbol,Any}}())"
      ]
     },
     "execution_count": 6,
     "metadata": {},
     "output_type": "execute_result"
    }
   ],
   "source": [
    "# creating the sampler object - right now the Givvs sampler is the only one available\n",
    "sampler = MRFGibbsSampler(Assignment(), burn_in = 0)"
   ]
  },
  {
   "cell_type": "code",
   "execution_count": 7,
   "metadata": {
    "collapsed": false
   },
   "outputs": [
    {
     "name": "stdout",
     "output_type": "stream",
     "text": [
      " 31.796490 seconds (138.96 M allocations: 24.796 GB, 7.78% gc time)\n"
     ]
    }
   ],
   "source": [
    "# the running the sampler - this can take a while\n",
    "iters = 200\n",
    "@time df = rand(mrf, sampler, iters);"
   ]
  },
  {
   "cell_type": "code",
   "execution_count": 8,
   "metadata": {
    "collapsed": false,
    "scrolled": true
   },
   "outputs": [
    {
     "name": "stderr",
     "output_type": "stream",
     "text": [
      "\u001b[1m\u001b[34mINFO: Saved animation to /home/henripal/.julia/v0.5/BayesNets.jl/doc/tmp.gif\n",
      "\u001b[0m"
     ]
    },
    {
     "data": {
      "text/html": [
       "<img src=\"tmp.gif?0.03596651424500896>\" />"
      ],
      "text/plain": [
       "Plots.AnimatedGif(\"/home/henripal/.julia/v0.5/BayesNets.jl/doc/tmp.gif\")"
      ]
     },
     "execution_count": 8,
     "metadata": {},
     "output_type": "execute_result"
    }
   ],
   "source": [
    "# some code to look at our Ising Model\n",
    "orderednames = [Symbol(i) for i in 1:length(vertices(grid))]\n",
    "a = reshape(convert(Array{Float64},df[1,orderednames]), (n, n) )\n",
    "plt = heatmap(a, axis = nothing)\n",
    "\n",
    "@gif for i=1:iters\n",
    "    a = reshape(convert(Array{Float64}, df[i,orderednames]), (n, n))\n",
    "    heatmap!(a, axis = nothing)\n",
    "end"
   ]
  },
  {
   "cell_type": "markdown",
   "metadata": {
    "collapsed": true
   },
   "source": [
    "### Potts Model\n",
    "Since this framework is flexible in terms of the interactions, it is easy to build more complicated models using the same procedure. For example we can build a 4 color Potts model on a grid in the same manner:"
   ]
  },
  {
   "cell_type": "code",
   "execution_count": 9,
   "metadata": {
    "collapsed": true
   },
   "outputs": [],
   "source": [
    "interact = .7 # this is our interaction energy\n",
    "\n",
    "# This is the only difference from our previous example ###\n",
    "interact_array = [exp(interact) exp(-interact) exp(-interact) exp(-interact);\n",
    "                  exp(-interact) exp(interact) exp(-interact) exp(-interact);\n",
    "                  exp(-interact) exp(-interact) exp(interact) exp(-interact);\n",
    "                  exp(-interact) exp(-interact) exp(-interact) exp(interact)]\n",
    "    \n",
    "factors = Array{Factor}(length(edges(grid)))\n",
    "\n",
    "# and create pairwise factors for neighboring nodes on the grids\n",
    "for (i,e) in enumerate(edges(grid))\n",
    "    factors[i] = Factor([Symbol(e[1]), Symbol(e[2])], interact_array)\n",
    "end\n",
    "\n",
    "mrf = MRF(factors);"
   ]
  },
  {
   "cell_type": "code",
   "execution_count": 10,
   "metadata": {
    "collapsed": false
   },
   "outputs": [
    {
     "name": "stdout",
     "output_type": "stream",
     "text": [
      " 32.703045 seconds (137.03 M allocations: 24.753 GB, 9.92% gc time)\n"
     ]
    }
   ],
   "source": [
    "# the running the sampler - this can take a while\n",
    "iters = 200\n",
    "@time df = rand(mrf, sampler, iters);"
   ]
  },
  {
   "cell_type": "code",
   "execution_count": 13,
   "metadata": {
    "collapsed": false,
    "scrolled": true
   },
   "outputs": [
    {
     "name": "stderr",
     "output_type": "stream",
     "text": [
      "\u001b[1m\u001b[34mINFO: Saved animation to /home/henripal/.julia/v0.5/BayesNets.jl/doc/potts_anim.gif\n",
      "\u001b[0m"
     ]
    },
    {
     "data": {
      "text/html": [
       "<img src=\"potts_anim.gif?0.837043402577339>\" />"
      ],
      "text/plain": [
       "Plots.AnimatedGif(\"/home/henripal/.julia/v0.5/BayesNets.jl/doc/potts_anim.gif\")"
      ]
     },
     "execution_count": 13,
     "metadata": {},
     "output_type": "execute_result"
    }
   ],
   "source": [
    "# some code to look at our Potts Model\n",
    "orderednames = [Symbol(i) for i in 1:length(vertices(grid))]\n",
    "a = reshape(convert(Array{Float64},df[1,orderednames]), (n, n) )\n",
    "plt = heatmap(a, axis = nothing)\n",
    "\n",
    "potts_anim = @animate for i=1:iters\n",
    "    a = reshape(convert(Array{Float64}, df[i,orderednames]), (n, n))\n",
    "    heatmap!(a, axis = nothing)\n",
    "end\n",
    "\n",
    "gif(potts_anim, \"potts_anim.gif\", fps = 20)"
   ]
  },
  {
   "cell_type": "markdown",
   "metadata": {},
   "source": [
    "## Inference\n",
    "Here we use the MRF to denoise a black and white image - the idea is that the MRF is still a grid, and that the interactions between neighbors still encourages local coherence, but now we connect an extra node to each node on the grid, corresponding to the value of the pixel. The ground state will then correspond to an image with \n",
    "* local coherence\n",
    "* close to the target image"
   ]
  },
  {
   "cell_type": "code",
   "execution_count": 1,
   "metadata": {
    "collapsed": false
   },
   "outputs": [
    {
     "name": "stderr",
     "output_type": "stream",
     "text": [
      "\u001b[1m\u001b[34mINFO: Recompiling stale cache file /home/henripal/.julia/lib/v0.5/BayesNets.ji for module BayesNets.\n",
      "\u001b[0m"
     ]
    }
   ],
   "source": [
    "using Images, TestImages, Distributions, LightGraphs, BayesNets"
   ]
  },
  {
   "cell_type": "markdown",
   "metadata": {},
   "source": [
    "Let's load a sample image, convert it to grayscale, and add some noise by 'turning off' some pixels."
   ]
  },
  {
   "cell_type": "code",
   "execution_count": 2,
   "metadata": {
    "collapsed": false
   },
   "outputs": [
    {
     "data": {
      "image/png": "[encoded data removed]",
      "text/plain": [
       "Gray Images.Image with:\n",
       "  data: 146×172 Array{Float64,2}\n",
       "  properties:\n",
       "    colorspace: Gray\n",
       "    spatialorder:  x y"
      ]
     },
     "execution_count": 2,
     "metadata": {},
     "output_type": "execute_result"
    }
   ],
   "source": [
    "n_levels = 9\n",
    "img = restrict(restrict(Images.load(\"geom.png\")))\n",
    "im_x_size, im_y_size = size(img)\n",
    "img_data = convert(Array{Int}, round.(n_levels.*Images.data(Images.Gray.(img))))\n",
    "grayim(img_data/n_levels)"
   ]
  },
  {
   "cell_type": "code",
   "execution_count": 3,
   "metadata": {
    "collapsed": false
   },
   "outputs": [
    {
     "data": {
      "image/png": "[encoded data removed]",
      "text/plain": [
       "Gray Images.Image with:\n",
       "  data: 146×172 Array{Float64,2}\n",
       "  properties:\n",
       "    colorspace: Gray\n",
       "    spatialorder:  x y"
      ]
     },
     "execution_count": 3,
     "metadata": {},
     "output_type": "execute_result"
    }
   ],
   "source": [
    "noisy_img_data = img_data  .*rand(Bernoulli(.94),im_x_size,im_y_size)\n",
    "grayim(noisy_img_data/n_levels)"
   ]
  },
  {
   "cell_type": "markdown",
   "metadata": {},
   "source": [
    "We now create a pairwise connected grid using Lightgraph"
   ]
  },
  {
   "cell_type": "code",
   "execution_count": 4,
   "metadata": {
    "collapsed": false
   },
   "outputs": [
    {
     "data": {
      "text/plain": [
       "25112"
      ]
     },
     "execution_count": 4,
     "metadata": {},
     "output_type": "execute_result"
    }
   ],
   "source": [
    "\n",
    "new_grid = Grid([im_x_size,im_y_size])\n",
    "im_size = im_x_size * im_y_size"
   ]
  },
  {
   "cell_type": "markdown",
   "metadata": {},
   "source": [
    "We now create the factor functions. The idea is to have higher energies for more distant shades of gray. We choose to use the square of the difference between the shades.\n",
    "We also use a factor `data mult` to specify the network's preference to being like the data rather than like the neighbors."
   ]
  },
  {
   "cell_type": "code",
   "execution_count": 5,
   "metadata": {
    "collapsed": false
   },
   "outputs": [
    {
     "data": {
      "text/plain": [
       "10×10 Array{Float64,2}:\n",
       " 1.4        0.7        0.28       …  0.028      0.0215385  0.0170732\n",
       " 0.7        1.4        0.7           0.0378378  0.028      0.0215385\n",
       " 0.28       0.7        1.4           0.0538462  0.0378378  0.028    \n",
       " 0.14       0.28       0.7           0.0823529  0.0538462  0.0378378\n",
       " 0.0823529  0.14       0.28          0.14       0.0823529  0.0538462\n",
       " 0.0538462  0.0823529  0.14       …  0.28       0.14       0.0823529\n",
       " 0.0378378  0.0538462  0.0823529     0.7        0.28       0.14     \n",
       " 0.028      0.0378378  0.0538462     1.4        0.7        0.28     \n",
       " 0.0215385  0.028      0.0378378     0.7        1.4        0.7      \n",
       " 0.0170732  0.0215385  0.028         0.28       0.7        1.4      "
      ]
     },
     "execution_count": 5,
     "metadata": {},
     "output_type": "execute_result"
    }
   ],
   "source": [
    "data_mult = 1.4\n",
    "interact_array = convert(Array{Float64,2},[1/(1+(i-j)^2) for i in 1:(n_levels +1), j in 1:(n_levels+1)])\n",
    "interact_data = data_mult * interact_array "
   ]
  },
  {
   "cell_type": "markdown",
   "metadata": {},
   "source": [
    "We then need to add the 'data' layer to the grid, adding one vertex per pre-existing vertex, linked not to its neighbors but to its corresponding hidden node"
   ]
  },
  {
   "cell_type": "code",
   "execution_count": 6,
   "metadata": {
    "collapsed": false
   },
   "outputs": [
    {
     "data": {
      "text/plain": [
       "true"
      ]
     },
     "execution_count": 6,
     "metadata": {},
     "output_type": "execute_result"
    }
   ],
   "source": [
    "add_vertices!(new_grid, im_size)\n",
    "for i in 1:(im_size)\n",
    "    add_edge!(new_grid, i, i+im_size)\n",
    "end"
   ]
  },
  {
   "cell_type": "markdown",
   "metadata": {
    "collapsed": false
   },
   "source": [
    "We then fill out the hidden neighbor interaction energies and the hidden node/data node interaction energies."
   ]
  },
  {
   "cell_type": "code",
   "execution_count": 8,
   "metadata": {
    "collapsed": false
   },
   "outputs": [],
   "source": [
    "factors = Array{Factor}(length(edges(new_grid)))\n",
    "\n",
    "# and create pairwise factors for neighboring nodes on the grids\n",
    "for (i,e) in enumerate(edges(new_grid))\n",
    "    if (e[1]>=im_size) || (e[2]>=im_size)\n",
    "        factors[i] = Factor([Symbol(e[1]), Symbol(e[2])], interact_data)\n",
    "    else\n",
    "        factors[i] = Factor([Symbol(e[1]), Symbol(e[2])], interact_array)\n",
    "    end\n",
    "end\n",
    "\n",
    "mrf = MRF(factors);"
   ]
  },
  {
   "cell_type": "markdown",
   "metadata": {},
   "source": [
    "Finally, we assign the pixel values to the data nodes and create our sampler object"
   ]
  },
  {
   "cell_type": "code",
   "execution_count": 9,
   "metadata": {
    "collapsed": false
   },
   "outputs": [],
   "source": [
    "# creating the sampler object - right now the Gibbs sampler is the only one available\n",
    "img_nodes = [Symbol(i) for i in (im_size+1):(2*im_size)]\n",
    "img_values = noisy_img_data[:]+1\n",
    "assgn = Assignment(zip(img_nodes, img_values))\n",
    "sampler = MRFGibbsSampler(assgn, burn_in = 0);"
   ]
  },
  {
   "cell_type": "markdown",
   "metadata": {},
   "source": [
    "We run the Gibbs sampler to process the denoising."
   ]
  },
  {
   "cell_type": "code",
   "execution_count": 14,
   "metadata": {
    "collapsed": false
   },
   "outputs": [
    {
     "name": "stdout",
     "output_type": "stream",
     "text": [
      "239.324023 seconds (455.82 M allocations: 559.445 GB, 30.11% gc time)\n"
     ]
    }
   ],
   "source": [
    "iters = 20\n",
    "@time df = rand(mrf, sampler, iters);"
   ]
  },
  {
   "cell_type": "code",
   "execution_count": 15,
   "metadata": {
    "collapsed": false
   },
   "outputs": [
    {
     "data": {
      "image/png": "[encoded data removed]",
      "text/plain": [
       "Gray Images.Image with:\n",
       "  data: 146×172 Array{Float64,2}\n",
       "  properties:\n",
       "    colorspace: Gray\n",
       "    spatialorder:  x y"
      ]
     },
     "execution_count": 15,
     "metadata": {},
     "output_type": "execute_result"
    }
   ],
   "source": [
    "# some code to look at our Potts Model\n",
    "orderednames = [Symbol(i) for i in 1:(im_size)]\n",
    "a = reshape(convert(Array{Float64},df[1,orderednames]), (im_x_size, im_y_size) )\n",
    "rebuiltim = grayim((a-1)/n_levels)"
   ]
  },
  {
   "cell_type": "code",
   "execution_count": 19,
   "metadata": {
    "collapsed": false
   },
   "outputs": [
    {
     "data": {
      "image/png": "[encoded data removed]",
      "text/plain": [
       "Gray Images.Image with:\n",
       "  data: 146×172 Array{Float64,2}\n",
       "  properties:\n",
       "    colorspace: Gray\n",
       "    spatialorder:  x y"
      ]
     },
     "metadata": {},
     "output_type": "display_data"
    }
   ],
   "source": [
    "# re-run this cell to see the convergence animation:\n",
    "for i in 1:iters\n",
    "    a = reshape(convert(Array{Float64},df[i,orderednames]), (im_x_size, im_y_size) )\n",
    "    display(grayim((a-1)/n_levels))\n",
    "    IJulia.clear_output(true)\n",
    "end"
   ]
  }
 ],
 "metadata": {
  "anaconda-cloud": {},
  "kernelspec": {
   "display_name": "Julia 0.5.0",
   "language": "julia",
   "name": "julia-0.5"
  },
  "language_info": {
   "file_extension": ".jl",
   "mimetype": "application/julia",
   "name": "julia",
   "version": "0.5.0"
  }
 },
 "nbformat": 4,
 "nbformat_minor": 0
}
